{
 "cells": [
  {
   "cell_type": "code",
   "execution_count": 73,
   "outputs": [],
   "source": [
    "def compress_fen(fen):\n",
    "    \"\"\"\n",
    "    Compresses a FEN representation by replacing consecutive '1's with their count.\n",
    "    \n",
    "    Args:\n",
    "        fen (str): The input FEN string to be compressed.\n",
    "    \n",
    "    Returns:\n",
    "        str: The compressed FEN string.\n",
    "    \"\"\"\n",
    "    compressed_fen = []\n",
    "    \n",
    "    for row in fen.split('/'):\n",
    "        count = 0\n",
    "        new_row = \"\"\n",
    "        \n",
    "        for char in row:\n",
    "            if char == '1':\n",
    "                count += 1\n",
    "            else:\n",
    "                if count > 0:\n",
    "                    new_row += str(count)\n",
    "                    count = 0\n",
    "                new_row += char\n",
    "                \n",
    "        if count > 0:\n",
    "            new_row += str(count)\n",
    "        \n",
    "        compressed_fen.append(new_row)\n",
    "    \n",
    "    return '/'.join(compressed_fen)\n",
    "\n",
    "\n",
    "def expand_fen(fen):\n",
    "    \"\"\"\n",
    "    Expands a compressed FEN representation by replacing counts with '1's.\n",
    "    \n",
    "    Args:\n",
    "        fen (str): The input compressed FEN string to be expanded.\n",
    "    \n",
    "    Returns:\n",
    "        str: The expanded FEN string.\n",
    "    \"\"\"\n",
    "    expanded_fen = []\n",
    "    \n",
    "    for row in fen.split('/'):\n",
    "        new_row = \"\"\n",
    "        \n",
    "        for char in row:\n",
    "            if char.isdigit():\n",
    "                new_row += '1' * int(char)  # Repeat '1' based on the number\n",
    "            else:\n",
    "                new_row += char\n",
    "        \n",
    "        expanded_fen.append(new_row)\n",
    "    \n",
    "    return '/'.join(expanded_fen)\n",
    "\n",
    "\n"
   ],
   "metadata": {
    "collapsed": false,
    "ExecuteTime": {
     "end_time": "2024-11-03T16:04:02.936714Z",
     "start_time": "2024-11-03T16:04:02.918383600Z"
    }
   },
   "id": "748d7dcc84f8eec2"
  },
  {
   "cell_type": "code",
   "execution_count": 74,
   "outputs": [
    {
     "name": "stdout",
     "output_type": "stream",
     "text": [
      "Original FEN:  11111111/11111P11/11111111/11111111/11111111/11111111/11111111/1111111r\n",
      "Compressed FEN:  8/5P2/8/8/8/8/8/7r\n",
      "Expanded FEN:  11111111/11111P11/11111111/11111111/11111111/11111111/11111111/1111111r\n"
     ]
    }
   ],
   "source": [
    "# Example Usage\n",
    "original_fen = \"11111111/11111P11/11111111/11111111/11111111/11111111/11111111/1111111r\"\n",
    "compressed = compress_fen(original_fen)\n",
    "expanded = expand_fen(compressed)\n",
    "\n",
    "print(\"Original FEN: \", original_fen)\n",
    "print(\"Compressed FEN: \", compressed)\n",
    "print(\"Expanded FEN: \", expanded)"
   ],
   "metadata": {
    "collapsed": false,
    "ExecuteTime": {
     "end_time": "2024-11-03T16:04:02.956272600Z",
     "start_time": "2024-11-03T16:04:02.936714Z"
    }
   },
   "id": "99d501f138d6a0b9"
  },
  {
   "cell_type": "code",
   "execution_count": 75,
   "outputs": [],
   "source": [
    "def determine_chess_move(past_fen, current_fen):\n",
    "    past_fen_list = past_fen.split(\"/\")\n",
    "    past_fen_list.reverse()\n",
    "    current_fen_list = current_fen.split(\"/\")\n",
    "    current_fen_list.reverse()\n",
    "    start = \"\"\n",
    "    start_key = True\n",
    "    start_pos = []\n",
    "    finish = \"\"\n",
    "    finish_key = True\n",
    "    promote = \"\"\n",
    "    for i in range (8):\n",
    "        for j in range(8):\n",
    "            if past_fen_list[i][j]!=current_fen_list[i][j] :\n",
    "                if(current_fen_list[i][j] == '1')and(start_key):\n",
    "                    start = chr(97 + j) + str(i+1)\n",
    "                    start_pos = [i,j]\n",
    "                    start_key = False\n",
    "                elif finish_key:\n",
    "                    finish = chr(97 + j) + str(i+1)\n",
    "                    # Check for promotion if a pawn has reached the last rank\n",
    "                    if i == 7 and past_fen_list[start_pos[0]][start_pos[1]] == 'P' :    #white pawn promotion\n",
    "                        promote = current_fen_list[i][j].lower()\n",
    "                    if i == 0 and past_fen_list[start_pos[0]][start_pos[1]] == 'p' :    #black pawn promotion\n",
    "                        promote = current_fen_list[i][j].lower()\n",
    "                    finish_key = False\n",
    "                else:\n",
    "                    print(\"past and current fen are seperated by multiple moves\")\n",
    "                    return '' #false value\n",
    "    if start_key or finish_key:\n",
    "        print(\"past and current fen are seperated by half a move or identical\")\n",
    "        return '' #false value\n",
    "    \n",
    "    return start + finish + promote"
   ],
   "metadata": {
    "collapsed": false,
    "ExecuteTime": {
     "end_time": "2024-11-03T16:04:02.966454200Z",
     "start_time": "2024-11-03T16:04:02.953765100Z"
    }
   },
   "id": "initial_id"
  },
  {
   "cell_type": "code",
   "execution_count": 1,
   "outputs": [],
   "source": [
    "def is_one_move(past_fen, current_fen):\n",
    "    past_fen_list = past_fen.split(\"/\")\n",
    "    past_fen_list.reverse()\n",
    "    current_fen_list = current_fen.split(\"/\")\n",
    "    current_fen_list.reverse()\n",
    "    \n",
    "    white_pieces = ['P','N','R','B','Q','K']\n",
    "    black_pieces = ['p','n','r','b','q','k']\n",
    "    start_key = True\n",
    "    finish_key = True\n",
    "    for i in range (8):\n",
    "        for j in range(8):\n",
    "            #check if there is a change in the square and it is not pieces of the same color being mismatched (this function ignores miss detection of pieces of the same color)\n",
    "            if past_fen_list[i][j]!=current_fen_list[i][j] and not ((past_fen_list[i][j] in white_pieces and current_fen_list[i][j] in white_pieces) or (past_fen_list[i][j] in black_pieces and current_fen_list[i][j] in black_pieces)):\n",
    "                if current_fen_list[i][j] == '1' and start_key:\n",
    "                    start_key = False\n",
    "                elif finish_key:\n",
    "                    finish_key = False\n",
    "                else:\n",
    "                    print(\"past and current fen are seperated by multiple moves\")\n",
    "                    return False #false value\n",
    "    if start_key or finish_key:\n",
    "        print(\"past and current fen are seperated by half a move or identical\")\n",
    "        return False #false value\n",
    "    \n",
    "    return True"
   ],
   "metadata": {
    "collapsed": false,
    "ExecuteTime": {
     "end_time": "2024-12-03T07:35:13.440784500Z",
     "start_time": "2024-12-03T07:35:13.421820500Z"
    }
   },
   "id": "1e5974374984e255"
  },
  {
   "cell_type": "code",
   "execution_count": 76,
   "outputs": [],
   "source": [
    "import chess\n",
    "\n",
    "def is_move_valid(past_fen, move):\n",
    "    past_fen = compress_fen(past_fen)\n",
    "    # Initialize the board with the previous FEN position\n",
    "    board = chess.Board(past_fen)\n",
    "    # Parse the move in UCI format\n",
    "    try:\n",
    "        chess_move = chess.Move.from_uci(move)\n",
    "    except ValueError:\n",
    "        print(\"Invalid move format.\")\n",
    "        return False\n",
    "    # Check if the move is valid in the current position\n",
    "    if chess_move in board.legal_moves:\n",
    "        return True\n",
    "    else:\n",
    "        return False\n"
   ],
   "metadata": {
    "collapsed": false,
    "ExecuteTime": {
     "end_time": "2024-11-03T16:04:02.981229400Z",
     "start_time": "2024-11-03T16:04:02.966454200Z"
    }
   },
   "id": "34d3e555e7633d5d"
  },
  {
   "cell_type": "code",
   "execution_count": 77,
   "outputs": [
    {
     "data": {
      "text/plain": "'f7f8q'"
     },
     "execution_count": 77,
     "metadata": {},
     "output_type": "execute_result"
    }
   ],
   "source": [
    "# White pawn at f7 promotes to a queen on f8\n",
    "past_fen = \"11111111/11111P11/11111111/11111111/11111111/11111111/11111111/11111111\"\n",
    "current_fen = \"11111Q11/11111111/11111111/11111111/11111111/11111111/11111111/11111111\"\n",
    "# Expected output: 'f7f8q'\n",
    "determine_chess_move(past_fen, current_fen)\n"
   ],
   "metadata": {
    "collapsed": false,
    "ExecuteTime": {
     "end_time": "2024-11-03T16:04:02.996925800Z",
     "start_time": "2024-11-03T16:04:02.981229400Z"
    }
   },
   "id": "1ae66300379813b"
  },
  {
   "cell_type": "code",
   "execution_count": 78,
   "outputs": [
    {
     "name": "stdout",
     "output_type": "stream",
     "text": [
      "True\n"
     ]
    }
   ],
   "source": [
    "# Test cases\n",
    "\n",
    "past_fen = \"rnbqkbnr/pppppppp/11111111/11111111/11111111/11111111/PPPPPPPP/RNBQKBNR\"\n",
    "move = \"e2e4\"  # White pawn moves from e2 to e4\n",
    "\n",
    "print(is_move_valid(past_fen, move))  # Should print True if the move is valid\n"
   ],
   "metadata": {
    "collapsed": false,
    "ExecuteTime": {
     "end_time": "2024-11-03T16:04:03.044119500Z",
     "start_time": "2024-11-03T16:04:02.996925800Z"
    }
   },
   "id": "cce5e566fdf0d10"
  },
  {
   "cell_type": "code",
   "execution_count": null,
   "outputs": [],
   "source": [
    "def print_board_from_fen(fen):\n",
    "    board = chess.Board(fen)\n",
    "    print(board)\n"
   ],
   "metadata": {
    "collapsed": false
   },
   "id": "f3367929de68ee17"
  },
  {
   "cell_type": "code",
   "execution_count": 18,
   "outputs": [],
   "source": [
    "def fix_queen_king_issue(past_fen,current_fen):\n",
    "    past_fen_list = [list(row) for row in past_fen.split(\"/\")]\n",
    "    current_fen_list = [list(row) for row in current_fen.split(\"/\")]\n",
    "    updated_fen_list = [list(row) for row in current_fen.split(\"/\")]\n",
    "    \n",
    "    #Here we assume that the past fen is correct and the current fen is always right for any detections other than queen and king\n",
    "    for i in range (8):\n",
    "        for j in range(8):\n",
    "            # 1. checks if king was confused with a queen\n",
    "            # a. static\n",
    "            if(past_fen_list[i][j] == 'k') and (current_fen_list[i][j] in ['q','n','r','b','p']):\n",
    "                updated_fen_list[i][j] = 'k'\n",
    "            # b. king made a move \n",
    "            if(current_fen_list[i][j] == '1') and (past_fen_list[i][j] == 'k'): #the king made a move\n",
    "                #get all the neighbouring positions\n",
    "                positions = [[x,y] for x in range (max(i-1,0),min(i+1,7)+1) for y in range (max(j-1,0),min(j+1,7)+1) if not (x==i and y==j)]\n",
    "                for pos in positions:\n",
    "                    if current_fen_list[pos[0]][pos[1]] == 'q' and past_fen_list[pos[0]][pos[1]] in['Q','B','P','R','N','1']:\n",
    "                        updated_fen_list[pos[0]][pos[1]] = 'k'\n",
    "                        break\n",
    "            #same logic for white king \n",
    "            if(past_fen_list[i][j] == 'K') and (current_fen_list[i][j] in ['Q','N','R','B','P']):\n",
    "                updated_fen_list[i][j] = 'K'            \n",
    "            # b. king made a move \n",
    "            if(current_fen_list[i][j] == '1') and (past_fen_list[i][j] == 'K'): #the king made a move\n",
    "                #get all the neighbouring positions\n",
    "                positions = [[x,y] for x in range (max(i-1,0),min(i+1,7)+1) for y in range (max(j-1,0),min(j+1,7)+1) if not (x==i and y==j)]\n",
    "                for pos in positions:\n",
    "                    if current_fen_list[pos[0]][pos[1]] == 'Q' and past_fen_list[pos[0]][pos[1]] in['q','b','p','r','n','1']:\n",
    "                        updated_fen_list[pos[0]][pos[1]] = 'K'\n",
    "                        break\n",
    "            #2. check if queen was confused with king\n",
    "            # a. static\n",
    "            if past_fen_list[i][j] in 'q' and current_fen_list[i][j] in ['k','n','r','b','p']:\n",
    "                updated_fen_list[i][j] = 'q'\n",
    "                \n",
    "            # b. dynamic (queen made a move)\n",
    "            if past_fen_list[i][j] == 'q' and current_fen_list[i][j] == '1':\n",
    "                #we find all possible positions that he queen could take\n",
    "                position = [[x,j] for x in range(8) if x!=i] + [[i,y] for y in range(8) if y!=j] + [[i+x,j+x] for x in range(-7,8) if 0<=i + x<=7 and 0<=j + x<=7 and x!=0 ] + [[i-x,j+x] for x in range(-7,8) if 0<=i - x<=7 and 0<=j + x<=7 and x!=0 ]\n",
    "                \n",
    "                for pos in position:\n",
    "                    if current_fen_list[pos[0]][pos[1]] == 'k' and past_fen_list[pos[0]][pos[1]] not in ['k','b','p','r','n']:\n",
    "                        updated_fen_list[pos[0]][pos[1]] = 'q'\n",
    "                        break\n",
    "            #check for other color\n",
    "            # a. static\n",
    "            if past_fen_list[i][j] in 'Q' and current_fen_list[i][j] in ['K','N','R','B','P']:\n",
    "                updated_fen_list[i][j] = 'Q'\n",
    "                \n",
    "            # b. dynamic (queen made a move)\n",
    "            if past_fen_list[i][j] == 'Q' and current_fen_list[i][j] == '1':\n",
    "                #we find all possible positions that he queen could take\n",
    "                position = [[x,j] for x in range(8) if x!=i] + [[i,y] for y in range(8) if y!=j] + [[i+x,j+x] for x in range(-7,8) if 0<=i + x<=7 and 0<=j + x<=7 and x!=0 ] + [[i-x,j+x] for x in range(-7,8) if 0<=i - x<=7 and 0<=j + x<=7 and x!=0 ]\n",
    "                \n",
    "                for pos in position:\n",
    "                    if current_fen_list[pos[0]][pos[1]] == 'K' and past_fen_list[pos[0]][pos[1]] not in ['K','B','P','R','N']:\n",
    "                        updated_fen_list[pos[0]][pos[1]] = 'Q'\n",
    "                        break\n",
    "                \n",
    "    return '/'.join([''.join(row) for row in updated_fen_list])\n",
    "                "
   ],
   "metadata": {
    "collapsed": false,
    "ExecuteTime": {
     "end_time": "2024-11-15T23:07:48.114242Z",
     "start_time": "2024-11-15T23:07:48.096634200Z"
    }
   },
   "id": "ce204b0c719e3020"
  },
  {
   "cell_type": "code",
   "execution_count": 32,
   "outputs": [],
   "source": [
    "def fix_fen(past_fen,current_fen):\n",
    "    past_fen_list = [list(row) for row in past_fen.split(\"/\")]\n",
    "    current_fen_list = [list(row) for row in current_fen.split(\"/\")]\n",
    "    updated_fen_list = [list(row) for row in current_fen.split(\"/\")]\n",
    "    \n",
    "    white_pieces = ['P','N','R','B','Q','K']\n",
    "    black_pieces = ['p','n','r','b','q','k']\n",
    "    \n",
    "    for i in range (8):\n",
    "        for j in range(8):\n",
    "            #static checking \n",
    "            if past_fen_list[i][j]!=current_fen_list[i][j]:\n",
    "                #Fix static miss predictions\n",
    "                if (past_fen_list[i][j] in black_pieces and current_fen_list[i][j] in black_pieces) or (past_fen_list[i][j] in white_pieces and current_fen_list[i][j] in white_pieces):\n",
    "                    updated_fen_list[i][j] = past_fen_list[i][j]\n",
    "                #Fix dynamic miss predictions\n",
    "            \n",
    "                if(current_fen_list[i][j] == '1'):  #a move happened\n",
    "                    #check  boxes based on move patterns of the chess pieces\n",
    "                    positions = []\n",
    "                    piece = past_fen_list[i][j]\n",
    "                    if piece == 'p':\n",
    "                        positions = [[i + 1,j + x] for x in range(-1,2) if 0 <= j + x <= 7 and i + 1 <= 7]\n",
    "                    if piece == 'P':\n",
    "                        positions = [[i - 1,j + x] for x in range(-1,2) if 0 <= j + x <= 7 and 0 <= i - 1]\n",
    "                    elif piece in ['r', 'R']:\n",
    "                        positions = [[x,j] for x in range(8) if x!=i] + [[i,y] for y in range(8) if y!=j]\n",
    "                    elif piece in ['b', 'B']:\n",
    "                        positions = [[i+x,j+x] for x in range(-7,8) if 0<=i + x<=7 and 0<=j + x<=7 and x!=0 ] + [[i-x,j+x] for x in range(-7,8) if 0<=i - x<=7 and 0<=j + x<=7 and x!=0 ]\n",
    "                        print(positions)\n",
    "                    elif piece in ['q', 'Q']:\n",
    "                        positions = [[x,j] for x in range(8) if x!=i] + [[i,y] for y in range(8) if y!=j] + [[i+x,j+x] for x in range(-7,8) if 0<=i + x<=7 and 0<=j + x<=7 and x!=0 ] + [[i-x,j+x] for x in range(-7,8) if 0<=i - x<=7 and 0<=j + x<=7 and x!=0 ]\n",
    "                    elif piece in ['k', 'K']:\n",
    "                        positions = [[x,y] for x in range (max(i-1,0),min(i+1,7)+1) for y in range (max(j-1,0),min(j+1,7)+1) if not (x==i and y==j)]\n",
    "                    else: #knignt :)\n",
    "                        positions = [\n",
    "                            [i + dx, j + dy]\n",
    "                            for dx, dy in [\n",
    "                                (2, 1), (2, -1), (-2, 1), (-2, -1),\n",
    "                                (1, 2), (1, -2), (-1, 2), (-1, -2)\n",
    "                            ]\n",
    "                            if 0 <= i + dx <= 7 and 0 <= j + dy <= 7\n",
    "                        ]\n",
    "                    for pos in positions:\n",
    "                        if (piece in white_pieces and current_fen_list[pos[0]][pos[1]] in white_pieces and past_fen_list[pos[0]][pos[1]] not in white_pieces) or (piece in black_pieces and current_fen_list[pos[0]][pos[1]] in black_pieces and past_fen_list[pos[0]][pos[1]] not in black_pieces):\n",
    "                            updated_fen_list[pos[0]][pos[1]] = piece\n",
    "                            \n",
    "    return '/'.join([''.join(row) for row in updated_fen_list])"
   ],
   "metadata": {
    "collapsed": false,
    "ExecuteTime": {
     "end_time": "2024-12-03T19:42:58.464828600Z",
     "start_time": "2024-12-03T19:42:58.445979500Z"
    }
   },
   "id": "f08f7df9561dae23"
  },
  {
   "cell_type": "code",
   "execution_count": 34,
   "outputs": [
    {
     "name": "stdout",
     "output_type": "stream",
     "text": [
      "[[1, 0], [2, 1], [3, 2], [4, 3], [5, 4], [7, 6], [7, 4], [5, 6], [4, 7]]\n",
      "11111111/11111111/11111111/11111111/11111k11/111111b1/11111111/11111111\n"
     ]
    }
   ],
   "source": [],
   "metadata": {
    "collapsed": false,
    "ExecuteTime": {
     "end_time": "2024-12-03T19:44:36.144967Z",
     "start_time": "2024-12-03T19:44:36.126697500Z"
    }
   },
   "id": "cbb53ff200778786"
  },
  {
   "cell_type": "code",
   "execution_count": 28,
   "outputs": [],
   "source": [
    "def test_fix_queen_king_issue():\n",
    "    # Test case 1: Static king misidentified as queen\n",
    "    past_fen = \"rnbqkbnr/pppppppp/11111111/11111111/11111111/11111111/PPPPPPPP/RNBQKBNR\"\n",
    "    current_fen = \"rnbqqbnr/pppppppp/11111111/11111111/11111111/11111111/PPPPPPPP/RNBQKBNR\"\n",
    "    expected = \"rnbqkbnr/pppppppp/11111111/11111111/11111111/11111111/PPPPPPPP/RNBQKBNR\"\n",
    "    result = fix_queen_king_issue(past_fen, current_fen)\n",
    "    print(\"Test 1:\", \"PASS\" if result == expected else \"FAIL\")\n",
    "\n",
    "    # Test case 2: King moves and misidentified as queen\n",
    "    past_fen = \"rnbqkbnr/pppppppp/11111111/11111111/11111111/11111111/PPPPPPPP/RNBQKBNR\"\n",
    "    current_fen = \"rnbq1bnr/pppppppp/11111111/11111111/11111111/11111k11/PPPPPPPP/RNBQKBNR\"\n",
    "    expected = \"rnbq1bnr/pppppppp/11111111/11111111/11111111/11111k11/PPPPPPPP/RNBQKBNR\"\n",
    "    result = fix_queen_king_issue(past_fen, current_fen)\n",
    "    print(\"Test 2:\", \"PASS\" if result == expected else \"FAIL\")\n",
    "\n",
    "    # Test case 3: Static queen misidentified as king\n",
    "    past_fen = \"rnbqkbnr/pppppppp/11111111/11111111/11111111/11111111/PPPPPPPP/RNBQKBNR\"\n",
    "    current_fen = \"rnbkkbnr/pppppppp/11111111/11111111/11111111/11111111/PPPPPPPP/RNBQKBNR\"\n",
    "    expected = \"rnbqkbnr/pppppppp/11111111/11111111/11111111/11111111/PPPPPPPP/RNBQKBNR\"\n",
    "    result = fix_queen_king_issue(past_fen, current_fen)\n",
    "    print(\"Test 3:\", \"PASS\" if result == expected else \"FAIL\")\n",
    "\n",
    "    # Test case 4: Queen moves diagonally and misidentified as king\n",
    "    past_fen = \"rnbqkbnr/pppppppp/11111111/11111111/11111111/11111111/PPPPPPPP/RNBQKBNR\"\n",
    "    current_fen = \"rnb1kbnr/pppppppp/1k111111/11111111/11111111/11111111/PPPPPPPP/RNBQKBNR\"\n",
    "    expected = \"rnb1kbnr/pppppppp/1q111111/11111111/11111111/11111111/PPPPPPPP/RNBQKBNR\"\n",
    "    result = fix_queen_king_issue(past_fen, current_fen)\n",
    "    print(\"Test 4:\", \"PASS\" if result == expected else \"FAIL\")\n",
    "\n",
    "    # Test case 5: Queen moves horizontally and misidentified as king\n",
    "    past_fen = \"rnbqkbnr/pppppppp/11111111/11111111/11111111/11111111/PPPPPPPP/RNBQKBNR\"\n",
    "    current_fen = \"rnb1kbnr/pppppppp/11111111/11111111/11111111/11111111/PPPPPPPP/RNBKkBNR\"\n",
    "    expected = \"rnb1kbnr/pppppppp/11111111/11111111/11111111/11111111/PPPPPPPP/RNBQkBNR\"\n",
    "    result = fix_queen_king_issue(past_fen, current_fen)\n",
    "    print(\"Test 5:\", \"PASS\" if result == expected else \"FAIL\")"
   ],
   "metadata": {
    "collapsed": false,
    "ExecuteTime": {
     "end_time": "2024-11-15T23:33:11.351357800Z",
     "start_time": "2024-11-15T23:33:11.336972400Z"
    }
   },
   "id": "a0d3c30ccdf920c3"
  },
  {
   "cell_type": "code",
   "execution_count": 29,
   "outputs": [
    {
     "name": "stdout",
     "output_type": "stream",
     "text": [
      "Test 1: PASS\n",
      "Test 2: PASS\n",
      "Test 3: PASS\n",
      "Test 4: PASS\n",
      "Test 5: PASS\n"
     ]
    }
   ],
   "source": [
    "test_fix_queen_king_issue()"
   ],
   "metadata": {
    "collapsed": false,
    "ExecuteTime": {
     "end_time": "2024-11-15T23:33:11.574758100Z",
     "start_time": "2024-11-15T23:33:11.558637800Z"
    }
   },
   "id": "f148e031adeda265"
  },
  {
   "cell_type": "code",
   "execution_count": null,
   "outputs": [],
   "source": [],
   "metadata": {
    "collapsed": false
   },
   "id": "dcd210c7db81ab89"
  }
 ],
 "metadata": {
  "kernelspec": {
   "display_name": "Python 3",
   "language": "python",
   "name": "python3"
  },
  "language_info": {
   "codemirror_mode": {
    "name": "ipython",
    "version": 2
   },
   "file_extension": ".py",
   "mimetype": "text/x-python",
   "name": "python",
   "nbconvert_exporter": "python",
   "pygments_lexer": "ipython2",
   "version": "2.7.6"
  }
 },
 "nbformat": 4,
 "nbformat_minor": 5
}
